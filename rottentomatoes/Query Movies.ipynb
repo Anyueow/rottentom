{
 "cells": [
  {
   "cell_type": "markdown",
   "id": "cd12f1e4",
   "metadata": {},
   "source": [
    "# Query Movies\n",
    "\n",
    "The purpose is to create a mechanism that queries RT and returns the top movie that has a tomatometer score."
   ]
  },
  {
   "cell_type": "code",
   "execution_count": 29,
   "id": "7bf7c0da",
   "metadata": {},
   "outputs": [],
   "source": [
    "import requests\n",
    "import re\n",
    "\n",
    "BAD_BOYS = \"https://www.rottentomatoes.com/search?search=Bad%20boys\"\n",
    "content = requests.get(BAD_BOYS).content\n",
    "content = str(content)"
   ]
  },
  {
   "cell_type": "code",
   "execution_count": 30,
   "id": "4fd7a74f",
   "metadata": {},
   "outputs": [
    {
     "data": {
      "text/plain": [
       "('<!DOC', '>\\\\n')"
      ]
     },
     "execution_count": 30,
     "metadata": {},
     "output_type": "execute_result"
    }
   ],
   "source": [
    "content = content[2:]\n",
    "content = content[:-1]\n",
    "content[:5], content[-3:]"
   ]
  },
  {
   "cell_type": "code",
   "execution_count": 31,
   "id": "26d4e2fd",
   "metadata": {},
   "outputs": [
    {
     "data": {
      "text/plain": [
       "96343"
      ]
     },
     "execution_count": 31,
     "metadata": {},
     "output_type": "execute_result"
    }
   ],
   "source": [
    "content.find(\"search-page-media-row\")"
   ]
  },
  {
   "cell_type": "code",
   "execution_count": 32,
   "id": "1649e0b7",
   "metadata": {},
   "outputs": [
    {
     "data": {
      "text/plain": [
       "'                            skeleton=\"panel\"\\\\n                                    cast=\"Will Smith,Martin Lawrence\"\\\\n                                    data-qa=\"data-row\"\\\\n                                    endyear=\"\"\\\\n                                    releaseyear=\"2024\"\\\\n                                    startyear=\"\"\\\\n                                    tomatometerscore=\"\"\\\\n                                    tomatometerstate=\"\"\\\\n                                >\\\\n                                    <a href=\"https://www.rottentomatoes.com/m/bad_boys_4\" class=\"unset\" data-qa=\"thumbnail-link\" slot=\"thumbnail\">\\\\n                                        <img\\\\n                                            alt=\"Bad Boys 4\"\\\\n                                            loading=\"lazy\"\\\\n                                            src=\"https://images.fandango.com/cms/assets/5d84d010-59b1-11ea-b175-791e911be53d--rt-poster-defaultgif.gif\">\\\\n                                    </a>\\\\n                                    <a href=\"https://www.rottentomatoes.com/m/bad_boys_4\" class=\"unset\" data-qa=\"info-name\" slot=\"title\">\\\\n                                        Bad Boys 4\\\\n                                    </a>\\\\n                                </search-page-media-row>\\\\n                            \\\\n                                <search-page-media-row\\\\n                                    skeleton=\"panel\"\\\\n                                    cast=\"Will Smith,Martin Lawrence,Vanessa Hudgens\"\\\\n                                    data-qa=\"data-row\"\\\\n                                    en'"
      ]
     },
     "execution_count": 32,
     "metadata": {},
     "output_type": "execute_result"
    }
   ],
   "source": [
    "content[96374:97974]"
   ]
  },
  {
   "cell_type": "code",
   "execution_count": 33,
   "id": "acd3bf75",
   "metadata": {},
   "outputs": [
    {
     "data": {
      "text/plain": [
       "'\\\\n                                    skeleton=\"panel\"\\\\n                                    cast=\"Will Smith,Martin Lawrence\"\\\\n                                    data-qa=\"data-row\"\\\\n                                    endyear=\"\"\\\\n                                    releaseyear=\"2024\"\\\\n                                    startyear=\"\"\\\\n                                    tomatometerscore=\"\"\\\\n                                    tomatometerstate=\"\"\\\\n                                >\\\\n                                    <a href=\"https://www.rottentomatoes.com/m/bad_boys_4\" class=\"unset\" data-qa=\"thumbnail-link\" slot=\"thumbnail\">\\\\n                                        <img\\\\n                                            alt=\"Bad Boys 4\"\\\\n                                            loading=\"lazy\"\\\\n                                            src=\"https://images.fandango.com/cms/assets/5d84d010-59b1-11ea-b175-791e911be53d--rt-poster-defaultgif.gif\">\\\\n                                    </a>\\\\n                                    <a href=\"https://www.rottentomatoes.com/m/bad_boys_4\" class=\"unset\" data-qa=\"info-name\" slot=\"title\">\\\\n                                        Bad Boys 4\\\\n                                    </a>\\\\n                                '"
      ]
     },
     "execution_count": 33,
     "metadata": {},
     "output_type": "execute_result"
    }
   ],
   "source": [
    "res = re.findall(r\"<search-page-media-row(.*?)</search-page-media-row>\", content)\n",
    "res[0]"
   ]
  },
  {
   "cell_type": "code",
   "execution_count": 34,
   "id": "d4074d83",
   "metadata": {},
   "outputs": [
    {
     "data": {
      "text/plain": [
       "True"
      ]
     },
     "execution_count": 34,
     "metadata": {},
     "output_type": "execute_result"
    }
   ],
   "source": [
    "# Finding tomatometer\n",
    "snip = res[4]\n",
    "tomato_qry = \"tomatometerscore=\"\n",
    "tomato_loc = snip.find(tomato_qry) + len(tomato_qry)\n",
    "tomato_snip = snip[tomato_loc:tomato_loc+5]\n",
    "meter = tomato_snip.split('\"')[1]\n",
    "has_tomatometer = bool(meter)\n",
    "has_tomatometer"
   ]
  },
  {
   "cell_type": "code",
   "execution_count": 35,
   "id": "094c0233",
   "metadata": {},
   "outputs": [
    {
     "data": {
      "text/plain": [
       "'https://www.rottentomatoes.com/m/bad_boys_4'"
      ]
     },
     "execution_count": 35,
     "metadata": {},
     "output_type": "execute_result"
    }
   ],
   "source": [
    "# Finding url\n",
    "snip = res[0]\n",
    "urls = re.findall(r'a href=\"(.*?)\"', snip)\n",
    "url = urls[0]\n",
    "url"
   ]
  },
  {
   "cell_type": "code",
   "execution_count": 36,
   "id": "93c00af2",
   "metadata": {},
   "outputs": [],
   "source": [
    "class SearchListing:\n",
    "    \"\"\"A search listing from the Rotten Tomatoes search page.\"\"\"\n",
    "    def __init__(self, has_tomatometer: bool, is_movie: bool, url: str) -> None:\n",
    "        self.has_tomatometer = has_tomatometer\n",
    "        self.is_movie = is_movie\n",
    "        self.url = str(url)\n",
    "        \n",
    "    @classmethod\n",
    "    def from_html(cls, html_snippet: str) -> \"SearchListing\":\n",
    "        \"\"\"\n",
    "        Takes a snippet from the search page's HTML code.\n",
    "        \n",
    "        Use `re.findall(r\"<search-page-media-row(.*?)</search-page-media-row>\", content)`\n",
    "        to separate the html into snippets, then feed each one to this method to create\n",
    "        a `SearchListing` objects.\n",
    "        \"\"\"\n",
    "        # Find the tomatometer\n",
    "        tomato_qry = \"tomatometerscore=\"\n",
    "        tomato_loc = html_snippet.find(tomato_qry) + len(tomato_qry)\n",
    "        tomato_snip = html_snippet[tomato_loc:tomato_loc+5]\n",
    "        meter = tomato_snip.split('\"')[1]\n",
    "        has_tomatometer = bool(meter)\n",
    "        \n",
    "        # Find the url\n",
    "        urls = re.findall(r'a href=\"(.*?)\"', html_snippet)\n",
    "        url = urls[0]\n",
    "        \n",
    "        # Determine if it's a movie\n",
    "        is_movie = \"/m/\" in url\n",
    "        \n",
    "        return cls(has_tomatometer=has_tomatometer, is_movie=is_movie, url=url)\n",
    "    \n",
    "    def __str__(self) -> str:\n",
    "        \"\"\"Represent the SearchListing object.\"\"\"\n",
    "        return f\"Tomatometer: {self.has_tomatometer}. URL: {self.url}. Is movie: {self.is_movie}.\""
   ]
  },
  {
   "cell_type": "code",
   "execution_count": 37,
   "id": "93561c89",
   "metadata": {},
   "outputs": [
    {
     "data": {
      "text/plain": [
       "[<__main__.SearchListing at 0x103f1ea40>,\n",
       " <__main__.SearchListing at 0x103f1fca0>,\n",
       " <__main__.SearchListing at 0x103f1f790>,\n",
       " <__main__.SearchListing at 0x103f1e1a0>,\n",
       " <__main__.SearchListing at 0x103f1d5a0>,\n",
       " <__main__.SearchListing at 0x103f1e500>,\n",
       " <__main__.SearchListing at 0x103f1f700>,\n",
       " <__main__.SearchListing at 0x103f1ecb0>,\n",
       " <__main__.SearchListing at 0x103f1ddb0>,\n",
       " <__main__.SearchListing at 0x103f1fd60>,\n",
       " <__main__.SearchListing at 0x103f1de10>,\n",
       " <__main__.SearchListing at 0x103f1faf0>,\n",
       " <__main__.SearchListing at 0x103f1e0b0>,\n",
       " <__main__.SearchListing at 0x103f1e380>,\n",
       " <__main__.SearchListing at 0x103f1cb80>,\n",
       " <__main__.SearchListing at 0x103f1f820>,\n",
       " <__main__.SearchListing at 0x103f1e6b0>]"
      ]
     },
     "execution_count": 37,
     "metadata": {},
     "output_type": "execute_result"
    }
   ],
   "source": [
    "snippets = re.findall(r\"<search-page-media-row(.*?)</search-page-media-row>\", content)\n",
    "listings = [SearchListing.from_html(snippet) for snippet in snippets]\n",
    "listings"
   ]
  },
  {
   "cell_type": "code",
   "execution_count": 38,
   "id": "e162acae",
   "metadata": {},
   "outputs": [
    {
     "name": "stdout",
     "output_type": "stream",
     "text": [
      "Tomatometer: False. URL: https://www.rottentomatoes.com/m/bad_boys_4. Is movie: True.\n",
      "Tomatometer: True. URL: https://www.rottentomatoes.com/m/bad_boys_for_life. Is movie: True.\n",
      "Tomatometer: False. URL: https://www.rottentomatoes.com/m/bad_boys_of_summer. Is movie: True.\n",
      "Tomatometer: True. URL: https://www.rottentomatoes.com/m/bad_boys_ii. Is movie: True.\n",
      "Tomatometer: True. URL: https://www.rottentomatoes.com/m/1062483-bad_boys. Is movie: True.\n",
      "Tomatometer: True. URL: https://www.rottentomatoes.com/m/bad_boys_1982. Is movie: True.\n",
      "Tomatometer: False. URL: https://www.rottentomatoes.com/m/bad_boys. Is movie: True.\n",
      "Tomatometer: False. URL: https://www.rottentomatoes.com/m/for_bad_boys_only. Is movie: True.\n",
      "Tomatometer: False. URL: https://www.rottentomatoes.com/m/good_bad_boys. Is movie: True.\n",
      "Tomatometer: False. URL: https://www.rottentomatoes.com/m/jaali_baaru_mattu_poli_hudugaru. Is movie: True.\n",
      "Tomatometer: False. URL: https://www.rottentomatoes.com/tv/p_diddy_presents_the_bad_boys_of_comedy. Is movie: False.\n",
      "Tomatometer: False. URL: https://www.rottentomatoes.com/tv/bad_boy_chiller_crew. Is movie: False.\n",
      "Tomatometer: False. URL: https://www.rottentomatoes.com/tv/bad_boy_billionaires_india. Is movie: False.\n",
      "Tomatometer: False. URL: https://www.rottentomatoes.com/tv/bad_boy_thing. Is movie: False.\n",
      "Tomatometer: False. URL: https://www.rottentomatoes.com/tv/a_bad_boy_drinks_tea. Is movie: False.\n",
      "Tomatometer: False. URL: https://www.rottentomatoes.com/tv/emmerdale_special_the_bad_boy_bows_out. Is movie: False.\n",
      "Tomatometer: False. URL: https://www.rottentomatoes.com/tv/baking_bad. Is movie: False.\n"
     ]
    }
   ],
   "source": [
    "for listing in listings:\n",
    "    print(listing)"
   ]
  },
  {
   "cell_type": "code",
   "execution_count": 39,
   "id": "4edaf860",
   "metadata": {},
   "outputs": [
    {
     "name": "stdout",
     "output_type": "stream",
     "text": [
      "Tomatometer: True. URL: https://www.rottentomatoes.com/m/1062483-bad_boys. Is movie: True.\n"
     ]
    }
   ],
   "source": [
    "snippets = re.findall(r\"<search-page-media-row(.*?)</search-page-media-row>\", content)\n",
    "listing = SearchListing.from_html(snippets[4])\n",
    "print(listing)"
   ]
  }
 ],
 "metadata": {
  "kernelspec": {
   "display_name": "Python 3 (ipykernel)",
   "language": "python",
   "name": "python3"
  },
  "language_info": {
   "codemirror_mode": {
    "name": "ipython",
    "version": 3
   },
   "file_extension": ".py",
   "mimetype": "text/x-python",
   "name": "python",
   "nbconvert_exporter": "python",
   "pygments_lexer": "ipython3",
   "version": "3.10.9"
  }
 },
 "nbformat": 4,
 "nbformat_minor": 5
}
